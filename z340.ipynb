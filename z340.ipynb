{
 "cells": [
  {
   "cell_type": "code",
   "execution_count": 80,
   "metadata": {},
   "outputs": [
    {
     "name": "stdout",
     "output_type": "stream",
     "text": [
      "CHARLESMILLESMANSONNMADDOXNOVEMBERNOVEMBERWASANAMERICANCRIMINALANDCULTLEADERINTHELATESHEFORMEDWHATBE\n"
     ]
    }
   ],
   "source": [
    "charles = open(\"data/charles.txt\").read()\n",
    "print(charles[:100])"
   ]
  },
  {
   "cell_type": "code",
   "execution_count": 81,
   "metadata": {},
   "outputs": [
    {
     "name": "stdout",
     "output_type": "stream",
     "text": [
      "ABCDEFGHIJKLMNOPQRSTUVWXYZABCDEFGHIJKLMNOPQRSTUVWXYZABCDEFGHIJKLMNOPQRSTUVWXYZABCDEFGHIJKLMNOPQRSTUV\n"
     ]
    }
   ],
   "source": [
    "alphabet = \"\".join([chr(ord('A') + i%26) for i in range(500)])\n",
    "print(alphabet[:100])"
   ]
  },
  {
   "cell_type": "code",
   "execution_count": 139,
   "metadata": {},
   "outputs": [],
   "source": [
    "testparams = {\"text\":alphabet, \"width\":20, \"height\":6}"
   ]
  },
  {
   "cell_type": "code",
   "execution_count": 159,
   "metadata": {},
   "outputs": [],
   "source": [
    "class CodeBlock(list):\n",
    "    def __repr__(self):\n",
    "        return \"\\n\".join(self)"
   ]
  },
  {
   "cell_type": "code",
   "execution_count": 160,
   "metadata": {},
   "outputs": [],
   "source": [
    "def makeblock(text, width, height):\n",
    "    block = []\n",
    "    assert(width * height <= len(text))\n",
    "    for r in range(height):\n",
    "        start = r * width\n",
    "        stop = start + width\n",
    "        block.append(text[start:stop])\n",
    "    return CodeBlock(block)"
   ]
  },
  {
   "cell_type": "code",
   "execution_count": 161,
   "metadata": {},
   "outputs": [
    {
     "data": {
      "text/plain": [
       "ABCDEFGHIJKLMNOPQRST\n",
       "UVWXYZABCDEFGHIJKLMN\n",
       "OPQRSTUVWXYZABCDEFGH\n",
       "IJKLMNOPQRSTUVWXYZAB\n",
       "CDEFGHIJKLMNOPQRSTUV\n",
       "WXYZABCDEFGHIJKLMNOP"
      ]
     },
     "execution_count": 161,
     "metadata": {},
     "output_type": "execute_result"
    }
   ],
   "source": [
    "makeblock(**testparams)"
   ]
  },
  {
   "cell_type": "code",
   "execution_count": 164,
   "metadata": {},
   "outputs": [],
   "source": [
    "def makereverse(text, width, height):\n",
    "    return CodeBlock([line[::-1] for line in makeblock(text, width, height)])"
   ]
  },
  {
   "cell_type": "code",
   "execution_count": 165,
   "metadata": {
    "scrolled": true
   },
   "outputs": [
    {
     "data": {
      "text/plain": [
       "TSRQPONMLKJIHGFEDCBA\n",
       "NMLKJIHGFEDCBAZYXWVU\n",
       "HGFEDCBAZYXWVUTSRQPO\n",
       "BAZYXWVUTSRQPONMLKJI\n",
       "VUTSRQPONMLKJIHGFEDC\n",
       "PONMLKJIHGFEDCBAZYXW"
      ]
     },
     "execution_count": 165,
     "metadata": {},
     "output_type": "execute_result"
    }
   ],
   "source": [
    "makereverse(**testparams)"
   ]
  },
  {
   "cell_type": "code",
   "execution_count": 166,
   "metadata": {},
   "outputs": [],
   "source": [
    "def makezigzag(text, width, height):\n",
    "    block = []\n",
    "    for r, line in enumerate(makeblock(text, width, height)):\n",
    "        block.append(line if (r%2 == 0) else line[::-1])\n",
    "    return CodeBlock(block)"
   ]
  },
  {
   "cell_type": "code",
   "execution_count": 167,
   "metadata": {},
   "outputs": [
    {
     "data": {
      "text/plain": [
       "ABCDEFGHIJKLMNOPQRST\n",
       "NMLKJIHGFEDCBAZYXWVU\n",
       "OPQRSTUVWXYZABCDEFGH\n",
       "BAZYXWVUTSRQPONMLKJI\n",
       "CDEFGHIJKLMNOPQRSTUV\n",
       "PONMLKJIHGFEDCBAZYXW"
      ]
     },
     "execution_count": 167,
     "metadata": {},
     "output_type": "execute_result"
    }
   ],
   "source": [
    "makezigzag(**testparams)"
   ]
  },
  {
   "cell_type": "code",
   "execution_count": 169,
   "metadata": {},
   "outputs": [],
   "source": [
    "def makespiral(text, width, height):\n",
    "    assert(width * height <= len(text))\n",
    "    block = [[\" \"] * width for i in range(height)]\n",
    "    nhoriz,nvert = width, height\n",
    "    iterText = iter(text)\n",
    "    direction = 0 # 0,1,2,3 = right, down, left, up\n",
    "    c,r = -1,0    # start one step outside of the block\n",
    "    while nhoriz > 0 and nvert > 0:\n",
    "        if direction == 0:\n",
    "            for n in range(nhoriz):\n",
    "                c += 1\n",
    "                block[r][c] = iterText.__next__()\n",
    "            nvert -= 1\n",
    "        elif direction == 1:\n",
    "            for n in range(nvert):\n",
    "                r += 1\n",
    "                block[r][c] = iterText.__next__()\n",
    "            nhoriz -= 1\n",
    "        elif direction == 2:\n",
    "            for n in range(nhoriz):\n",
    "                c -= 1\n",
    "                block[r][c] = iterText.__next__()\n",
    "            nvert -= 1\n",
    "        else:\n",
    "            for n in range(nvert):\n",
    "                r -= 1\n",
    "                block[r][c] = iterText.__next__()\n",
    "            nhoriz -= 1\n",
    "        direction = (direction + 1) % 4\n",
    "    block = [\"\".join(row) for row in block]\n",
    "    return CodeBlock(block)"
   ]
  },
  {
   "cell_type": "code",
   "execution_count": 170,
   "metadata": {},
   "outputs": [
    {
     "data": {
      "text/plain": [
       "ABCDEFGHIJKLMNOPQRST\n",
       "VWXYZABCDEFGHIJKLMNU\n",
       "UJKLMNOPQRSTUVWXYZOV\n",
       "TIPONMLKJIHGFEDCBAPW\n",
       "SHGFEDCBAZYXWVUTSRQX\n",
       "RQPONMLKJIHGFEDCBAZY"
      ]
     },
     "execution_count": 170,
     "metadata": {},
     "output_type": "execute_result"
    }
   ],
   "source": [
    "makespiral(**testparams)"
   ]
  }
 ],
 "metadata": {
  "kernelspec": {
   "display_name": "Python 3",
   "language": "python",
   "name": "python3"
  },
  "language_info": {
   "codemirror_mode": {
    "name": "ipython",
    "version": 3
   },
   "file_extension": ".py",
   "mimetype": "text/x-python",
   "name": "python",
   "nbconvert_exporter": "python",
   "pygments_lexer": "ipython3",
   "version": "3.6.5"
  }
 },
 "nbformat": 4,
 "nbformat_minor": 2
}
